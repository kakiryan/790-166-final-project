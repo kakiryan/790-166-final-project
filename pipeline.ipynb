{
 "cells": [
  {
   "cell_type": "code",
   "execution_count": 1,
   "id": "unexpected-allocation",
   "metadata": {},
   "outputs": [],
   "source": [
    "import networkx as nx\n",
    "import os\n",
    "import sys\n",
    "import urllib\n",
    "from IPython.display import SVG\n",
    "from sklearn.cluster import KMeans\n",
    "from sknetwork.embedding import Spectral\n",
    "from sknetwork.hierarchy import Paris\n",
    "from sknetwork.visualization import svg_graph, svg_digraph, svg_bigraph, svg_dendrogram\n",
    "from sklearn.cluster import SpectralClustering\n",
    "from sklearn.mixture import GaussianMixture"
   ]
  },
  {
   "cell_type": "code",
   "execution_count": 2,
   "id": "worthy-equilibrium",
   "metadata": {},
   "outputs": [],
   "source": [
    "def get_graph(url):\n",
    "    graph = nx.read_graphml(url)\n",
    "    return graph"
   ]
  },
  {
   "cell_type": "code",
   "execution_count": 3,
   "id": "e4885e66",
   "metadata": {},
   "outputs": [],
   "source": [
    "def normalize_graph(graph):\n",
    "    new_graph = nx.Graph()\n",
    "    for u, v in graph.edges():\n",
    "        if new_graph.has_edge(u, v):\n",
    "            new_graph[u][v]['weight'] += 1\n",
    "        else:\n",
    "            new_graph.add_edge(u, v, weight=1)\n",
    "    return new_graph"
   ]
  },
  {
   "cell_type": "code",
   "execution_count": 4,
   "id": "509a7c99",
   "metadata": {},
   "outputs": [],
   "source": [
    "def get_adj_matrix(graph):\n",
    "    adj_matrix = nx.to_numpy_array(graph) # convert to adj matrix\n",
    "    return adj_matrix"
   ]
  },
  {
   "cell_type": "code",
   "execution_count": 5,
   "id": "091f022b",
   "metadata": {},
   "outputs": [],
   "source": [
    "def get_embeddings(graph):\n",
    "    adj_matrix = get_adj_matrix(graph)\n",
    "    spectral = Spectral()\n",
    "    embedding = spectral.fit_transform(adj_matrix)\n",
    "    return embedding"
   ]
  },
  {
   "cell_type": "code",
   "execution_count": 6,
   "id": "39b4ff02",
   "metadata": {},
   "outputs": [],
   "source": [
    "def k_means(graph, clusters):\n",
    "    embeddings = get_embeddings(graph)\n",
    "    kmeans = KMeans(n_clusters=clusters)\n",
    "    kmeans.fit(embeddings)\n",
    "    return kmeans"
   ]
  },
  {
   "cell_type": "code",
   "execution_count": 7,
   "id": "36f7e725",
   "metadata": {},
   "outputs": [],
   "source": [
    "def paris_hierarchy(graph):\n",
    "    adj_matrix = get_adj_matrix(graph)\n",
    "    paris = Paris()\n",
    "    dendrogram = paris.fit_transform(adj_matrix)\n",
    "    return dendrogram"
   ]
  },
  {
   "cell_type": "code",
   "execution_count": 8,
   "id": "requested-edward",
   "metadata": {},
   "outputs": [],
   "source": [
    "def make_paris_image(dendrogram):\n",
    "    image = svg_dendrogram(dendrogram)\n",
    "    return SVG(image)"
   ]
  },
  {
   "cell_type": "code",
   "execution_count": 9,
   "id": "2ad38da5",
   "metadata": {},
   "outputs": [],
   "source": [
    "def spectral_clustering(graph, clusters):\n",
    "    adj_matrix = get_adj_matrix(graph)\n",
    "    sc = SpectralClustering(clusters, affinity='precomputed', n_init=10, assign_labels='discretize')\n",
    "    results = sc.fit(adj_matrix)\n",
    "    return results"
   ]
  },
  {
   "cell_type": "code",
   "execution_count": 10,
   "id": "9e574721",
   "metadata": {},
   "outputs": [],
   "source": [
    "def gaussian_mixture(graph, clusters):\n",
    "    embeddings - get_embeddings(graph)\n",
    "    gmm = GaussianMixture(n_components=clusters).fit(embeddings)\n",
    "    gmm = gmm.predict(embeddings)\n",
    "    return gmm"
   ]
  },
  {
   "cell_type": "code",
   "execution_count": 11,
   "id": "cd9bc7bd",
   "metadata": {},
   "outputs": [],
   "source": [
    "cat_graph = get_graph(\"cat.graphml\")"
   ]
  },
  {
   "cell_type": "code",
   "execution_count": 12,
   "id": "5c84f71c",
   "metadata": {},
   "outputs": [],
   "source": [
    "cat_graph = normalize_graph(cat_graph)"
   ]
  },
  {
   "cell_type": "code",
   "execution_count": 13,
   "id": "0a4e6343",
   "metadata": {},
   "outputs": [
    {
     "data": {
      "text/plain": [
       "<networkx.classes.graph.Graph at 0x7fd44388f760>"
      ]
     },
     "execution_count": 13,
     "metadata": {},
     "output_type": "execute_result"
    }
   ],
   "source": [
    "cat_graph"
   ]
  },
  {
   "cell_type": "code",
   "execution_count": 14,
   "id": "ec7589c5",
   "metadata": {},
   "outputs": [],
   "source": [
    "matrix = get_adj_matrix(cat_graph)"
   ]
  },
  {
   "cell_type": "code",
   "execution_count": 15,
   "id": "16d9c4d9",
   "metadata": {},
   "outputs": [
    {
     "data": {
      "text/plain": [
       "array([[0., 2., 2., ..., 0., 0., 0.],\n",
       "       [2., 0., 2., ..., 0., 0., 0.],\n",
       "       [2., 2., 0., ..., 0., 0., 0.],\n",
       "       ...,\n",
       "       [0., 0., 0., ..., 0., 2., 0.],\n",
       "       [0., 0., 0., ..., 2., 0., 0.],\n",
       "       [0., 0., 0., ..., 0., 0., 0.]])"
      ]
     },
     "execution_count": 15,
     "metadata": {},
     "output_type": "execute_result"
    }
   ],
   "source": [
    "matrix"
   ]
  },
  {
   "cell_type": "code",
   "execution_count": 16,
   "id": "84aea5bc",
   "metadata": {},
   "outputs": [],
   "source": [
    "embeddings = get_embeddings(cat_graph)"
   ]
  },
  {
   "cell_type": "code",
   "execution_count": 17,
   "id": "1b42fcf9",
   "metadata": {},
   "outputs": [
    {
     "data": {
      "text/plain": [
       "array([[ 0.01759577,  0.99984518],\n",
       "       [ 0.04392782,  0.99903471],\n",
       "       [ 0.11714819,  0.99311444],\n",
       "       [ 0.0230149 ,  0.99973512],\n",
       "       [-0.01999572,  0.99980007],\n",
       "       [ 0.31111042,  0.95037377],\n",
       "       [ 0.00200709,  0.99999799],\n",
       "       [-0.0348261 ,  0.99939339],\n",
       "       [-0.39138966,  0.92022504],\n",
       "       [-0.03162022,  0.99949996],\n",
       "       [ 0.43081995,  0.9024379 ],\n",
       "       [ 0.06091763,  0.9981428 ],\n",
       "       [-0.97582449,  0.21855563],\n",
       "       [ 0.21829002,  0.97588394],\n",
       "       [ 0.23413891,  0.97220315],\n",
       "       [-0.4424093 ,  0.89681325],\n",
       "       [ 0.99630613, -0.0858725 ],\n",
       "       [ 0.95972226, -0.2809505 ],\n",
       "       [ 0.93553677,  0.35322933],\n",
       "       [ 0.99644899,  0.08419865],\n",
       "       [-0.92038943, -0.39100294],\n",
       "       [-0.88414051, -0.46722109],\n",
       "       [-0.03913366,  0.99923398],\n",
       "       [-0.12935062, -0.99159892],\n",
       "       [-0.47302361, -0.88104975],\n",
       "       [-0.97633214,  0.21627657],\n",
       "       [-0.9573989 , -0.28876868],\n",
       "       [-0.9647786 , -0.26306321],\n",
       "       [ 0.95039859, -0.3110346 ],\n",
       "       [ 0.78934147, -0.61395443],\n",
       "       [-0.93279764, -0.36040055],\n",
       "       [-0.86990257, -0.49322359],\n",
       "       [-0.60552133, -0.79582907],\n",
       "       [-0.911292  , -0.41176072],\n",
       "       [-0.92792522, -0.3727664 ],\n",
       "       [-0.82420249, -0.5662952 ],\n",
       "       [-0.79836964, -0.60216768],\n",
       "       [-0.74644993, -0.66544158],\n",
       "       [-0.51865846, -0.85498152],\n",
       "       [-0.50512082, -0.86304864],\n",
       "       [ 0.7324778 , -0.68079092],\n",
       "       [ 0.90551468, -0.42431494],\n",
       "       [ 0.93670443, -0.35012113],\n",
       "       [ 0.91377597, -0.40621852],\n",
       "       [ 0.91502655, -0.40339361],\n",
       "       [-0.76923015, -0.63897181],\n",
       "       [-0.87748265, -0.47960838],\n",
       "       [-0.93899822, -0.34392199],\n",
       "       [-0.95929698, -0.28239921],\n",
       "       [ 0.86959984, -0.49375715],\n",
       "       [ 0.88368998, -0.46807267],\n",
       "       [ 0.83789763, -0.54582741],\n",
       "       [ 0.7739222 , -0.63328069],\n",
       "       [ 0.90944625, -0.4158215 ],\n",
       "       [ 0.88624823, -0.46321062],\n",
       "       [-0.95735224, -0.28892334],\n",
       "       [-0.96301999, -0.26942995],\n",
       "       [-0.91824024, -0.39602382],\n",
       "       [-0.97865855, -0.20549317],\n",
       "       [ 0.86889668, -0.49499349],\n",
       "       [ 0.86757497, -0.49730642],\n",
       "       [-0.72070736, -0.69323942],\n",
       "       [ 0.1979207 , -0.98021804],\n",
       "       [-0.72237735, -0.69149907],\n",
       "       [-0.76941057, -0.63875455]])"
      ]
     },
     "execution_count": 17,
     "metadata": {},
     "output_type": "execute_result"
    }
   ],
   "source": [
    "embeddings"
   ]
  },
  {
   "cell_type": "code",
   "execution_count": 18,
   "id": "46ab81a3",
   "metadata": {},
   "outputs": [],
   "source": [
    "k = k_means(cat_graph, 10)"
   ]
  },
  {
   "cell_type": "code",
   "execution_count": 19,
   "id": "01d7fecf",
   "metadata": {},
   "outputs": [
    {
     "data": {
      "text/plain": [
       "array([2, 2, 2, 2, 2, 9, 2, 2, 7, 2, 9, 2, 1, 9, 9, 7, 6, 0, 6, 6, 4, 4,\n",
       "       2, 5, 3, 1, 4, 4, 0, 0, 4, 4, 3, 4, 4, 8, 8, 8, 3, 3, 0, 0, 0, 0,\n",
       "       0, 8, 4, 4, 4, 0, 0, 0, 0, 0, 0, 4, 4, 4, 4, 0, 0, 8, 5, 8, 8],\n",
       "      dtype=int32)"
      ]
     },
     "execution_count": 19,
     "metadata": {},
     "output_type": "execute_result"
    }
   ],
   "source": [
    "k.labels_"
   ]
  },
  {
   "cell_type": "code",
   "execution_count": 20,
   "id": "fc48be46",
   "metadata": {},
   "outputs": [],
   "source": [
    "paris = paris_hierarchy(cat_graph)"
   ]
  },
  {
   "cell_type": "code",
   "execution_count": 21,
   "id": "80b842db",
   "metadata": {},
   "outputs": [
    {
     "data": {
      "image/svg+xml": [
       "<svg xmlns=\"http://www.w3.org/2000/svg\" width=\"420\" height=\"320\"><path stroke-width=\"2\" stroke=\"blue\" d=\"M 16.153846153846153 310 16.153846153846153 304.1870288298279\"/><path stroke-width=\"2\" stroke=\"blue\" d=\"M 22.307692307692307 310 22.307692307692307 304.1870288298279\"/><path stroke-width=\"2\" stroke=\"blue\" d=\"M 16.153846153846153 304.1870288298279 22.307692307692307 304.1870288298279\"/><path stroke-width=\"2\" stroke=\"blue\" d=\"M 19.23076923076923 304.1870288298279 19.23076923076923 303.0797959710398\"/><path stroke-width=\"2\" stroke=\"blue\" d=\"M 28.461538461538463 310 28.461538461538463 303.0797959710398\"/><path stroke-width=\"2\" stroke=\"blue\" d=\"M 19.23076923076923 303.0797959710398 28.461538461538463 303.0797959710398\"/><path stroke-width=\"2\" stroke=\"blue\" d=\"M 157.6923076923077 310 157.6923076923077 302.9413924696512\"/><path stroke-width=\"2\" stroke=\"blue\" d=\"M 163.84615384615387 310 163.84615384615387 302.9413924696512\"/><path stroke-width=\"2\" stroke=\"blue\" d=\"M 157.6923076923077 302.9413924696512 163.84615384615387 302.9413924696512\"/><path stroke-width=\"2\" stroke=\"blue\" d=\"M 231.53846153846155 310 231.53846153846155 302.5261799240645\"/><path stroke-width=\"2\" stroke=\"blue\" d=\"M 237.6923076923077 310 237.6923076923077 302.5261799240645\"/><path stroke-width=\"2\" stroke=\"blue\" d=\"M 231.53846153846155 302.5261799240645 237.6923076923077 302.5261799240645\"/><path stroke-width=\"2\" stroke=\"blue\" d=\"M 200.76923076923077 310 200.76923076923077 301.76495823291106\"/><path stroke-width=\"2\" stroke=\"blue\" d=\"M 206.92307692307693 310 206.92307692307693 301.76495823291106\"/><path stroke-width=\"2\" stroke=\"blue\" d=\"M 200.76923076923077 301.76495823291106 206.92307692307693 301.76495823291106\"/><path stroke-width=\"2\" stroke=\"blue\" d=\"M 10.0 310 10.0 300.79612887267245\"/><path stroke-width=\"2\" stroke=\"blue\" d=\"M 23.846153846153847 303.0797959710398 23.846153846153847 300.79612887267245\"/><path stroke-width=\"2\" stroke=\"blue\" d=\"M 10.0 300.79612887267245 23.846153846153847 300.79612887267245\"/><path stroke-width=\"2\" stroke=\"blue\" d=\"M 16.923076923076923 300.79612887267245 16.923076923076923 297.18773717819334\"/><path stroke-width=\"2\" stroke=\"blue\" d=\"M 34.61538461538461 310 34.61538461538461 297.18773717819334\"/><path stroke-width=\"2\" stroke=\"blue\" d=\"M 16.923076923076923 297.18773717819334 34.61538461538461 297.18773717819334\"/><path stroke-width=\"2\" stroke=\"blue\" d=\"M 256.1538461538462 310 256.1538461538462 297.0592199881897\"/><path stroke-width=\"2\" stroke=\"blue\" d=\"M 262.3076923076923 310 262.3076923076923 297.0592199881897\"/><path stroke-width=\"2\" stroke=\"blue\" d=\"M 256.1538461538462 297.0592199881897 262.3076923076923 297.0592199881897\"/><path stroke-width=\"2\" stroke=\"blue\" d=\"M 46.92307692307693 310 46.92307692307693 294.1181330567151\"/><path stroke-width=\"2\" stroke=\"blue\" d=\"M 53.07692307692308 310 53.07692307692308 294.1181330567151\"/><path stroke-width=\"2\" stroke=\"blue\" d=\"M 46.92307692307693 294.1181330567151 53.07692307692308 294.1181330567151\"/><path stroke-width=\"2\" stroke=\"blue\" d=\"M 250.0 310 250.0 293.8067231688064\"/><path stroke-width=\"2\" stroke=\"blue\" d=\"M 259.2307692307693 297.0592199881897 259.2307692307693 293.8067231688064\"/><path stroke-width=\"2\" stroke=\"blue\" d=\"M 250.0 293.8067231688064 259.2307692307693 293.8067231688064\"/><path stroke-width=\"2\" stroke=\"red\" d=\"M 323.84615384615387 310 323.84615384615387 293.25310567501333\"/><path stroke-width=\"2\" stroke=\"red\" d=\"M 330.0 310 330.0 293.25310567501333\"/><path stroke-width=\"2\" stroke=\"red\" d=\"M 323.84615384615387 293.25310567501333 330.0 293.25310567501333\"/><path stroke-width=\"2\" stroke=\"blue\" d=\"M 25.769230769230766 297.18773717819334 25.769230769230766 292.90709770147333\"/><path stroke-width=\"2\" stroke=\"blue\" d=\"M 40.769230769230774 310 40.769230769230774 292.90709770147333\"/><path stroke-width=\"2\" stroke=\"blue\" d=\"M 25.769230769230766 292.90709770147333 40.769230769230774 292.90709770147333\"/><path stroke-width=\"2\" stroke=\"blue\" d=\"M 243.84615384615387 310 243.84615384615387 291.8344646141024\"/><path stroke-width=\"2\" stroke=\"blue\" d=\"M 254.61538461538464 293.8067231688064 254.61538461538464 291.8344646141024\"/><path stroke-width=\"2\" stroke=\"blue\" d=\"M 243.84615384615387 291.8344646141024 254.61538461538464 291.8344646141024\"/><path stroke-width=\"2\" stroke=\"red\" d=\"M 317.69230769230774 310 317.69230769230774 291.73066258728505\"/><path stroke-width=\"2\" stroke=\"red\" d=\"M 326.9230769230769 293.25310567501333 326.9230769230769 291.73066258728505\"/><path stroke-width=\"2\" stroke=\"red\" d=\"M 317.69230769230774 291.73066258728505 326.9230769230769 291.73066258728505\"/><path stroke-width=\"2\" stroke=\"blue\" d=\"M 160.76923076923077 302.9413924696512 160.76923076923077 291.54612464960775\"/><path stroke-width=\"2\" stroke=\"blue\" d=\"M 170.0 310 170.0 291.54612464960775\"/><path stroke-width=\"2\" stroke=\"blue\" d=\"M 160.76923076923077 291.54612464960775 170.0 291.54612464960775\"/><path stroke-width=\"2\" stroke=\"red\" d=\"M 348.46153846153845 310 348.46153846153845 290.0698137315837\"/><path stroke-width=\"2\" stroke=\"red\" d=\"M 354.61538461538464 310 354.61538461538464 290.0698137315837\"/><path stroke-width=\"2\" stroke=\"red\" d=\"M 348.46153846153845 290.0698137315837 354.61538461538464 290.0698137315837\"/><path stroke-width=\"2\" stroke=\"red\" d=\"M 311.53846153846155 310 311.53846153846155 288.0398878917452\"/><path stroke-width=\"2\" stroke=\"red\" d=\"M 322.3076923076923 291.73066258728505 322.3076923076923 288.0398878917452\"/><path stroke-width=\"2\" stroke=\"red\" d=\"M 311.53846153846155 288.0398878917452 322.3076923076923 288.0398878917452\"/><path stroke-width=\"2\" stroke=\"blue\" d=\"M 249.23076923076925 291.8344646141024 249.23076923076925 287.16332665662895\"/><path stroke-width=\"2\" stroke=\"blue\" d=\"M 268.46153846153845 310 268.46153846153845 287.16332665662895\"/><path stroke-width=\"2\" stroke=\"blue\" d=\"M 249.23076923076925 287.16332665662895 268.46153846153845 287.16332665662895\"/><path stroke-width=\"2\" stroke=\"blue\" d=\"M 145.3846153846154 310 145.3846153846154 285.2948728525634\"/><path stroke-width=\"2\" stroke=\"blue\" d=\"M 151.53846153846155 310 151.53846153846155 285.2948728525634\"/><path stroke-width=\"2\" stroke=\"blue\" d=\"M 145.3846153846154 285.2948728525634 151.53846153846155 285.2948728525634\"/><path stroke-width=\"2\" stroke=\"blue\" d=\"M 194.6153846153846 310 194.6153846153846 283.1842091772859\"/><path stroke-width=\"2\" stroke=\"blue\" d=\"M 203.84615384615387 301.76495823291106 203.84615384615387 283.1842091772859\"/><path stroke-width=\"2\" stroke=\"blue\" d=\"M 194.6153846153846 283.1842091772859 203.84615384615387 283.1842091772859\"/><path stroke-width=\"2\" stroke=\"blue\" d=\"M 33.269230769230774 292.90709770147333 33.269230769230774 283.14961099798006\"/><path stroke-width=\"2\" stroke=\"blue\" d=\"M 50.0 294.1181330567151 50.0 283.14961099798006\"/><path stroke-width=\"2\" stroke=\"blue\" d=\"M 33.269230769230774 283.14961099798006 50.0 283.14961099798006\"/><path stroke-width=\"2\" stroke=\"blue\" d=\"M 165.3846153846154 291.54612464960775 165.3846153846154 281.9731758240389\"/><path stroke-width=\"2\" stroke=\"blue\" d=\"M 176.15384615384616 310 176.15384615384616 281.9731758240389\"/><path stroke-width=\"2\" stroke=\"blue\" d=\"M 165.3846153846154 281.9731758240389 176.15384615384616 281.9731758240389\"/><path stroke-width=\"2\" stroke=\"blue\" d=\"M 219.23076923076925 310 219.23076923076925 281.6617655454112\"/><path stroke-width=\"2\" stroke=\"blue\" d=\"M 225.3846153846154 310 225.3846153846154 281.6617655454112\"/><path stroke-width=\"2\" stroke=\"blue\" d=\"M 219.23076923076925 281.6617655454112 225.3846153846154 281.6617655454112\"/><path stroke-width=\"2\" stroke=\"blue\" d=\"M 222.30769230769232 281.6617655454112 222.30769230769232 280.9351446601902\"/><path stroke-width=\"2\" stroke=\"blue\" d=\"M 234.61538461538464 302.5261799240645 234.61538461538464 280.9351446601902\"/><path stroke-width=\"2\" stroke=\"blue\" d=\"M 222.30769230769232 280.9351446601902 234.61538461538464 280.9351446601902\"/><path stroke-width=\"2\" stroke=\"blue\" d=\"M 199.23076923076923 283.1842091772859 199.23076923076923 280.5476137044753\"/><path stroke-width=\"2\" stroke=\"blue\" d=\"M 213.0769230769231 310 213.0769230769231 280.5476137044753\"/><path stroke-width=\"2\" stroke=\"blue\" d=\"M 199.23076923076923 280.5476137044753 213.0769230769231 280.5476137044753\"/><path stroke-width=\"2\" stroke=\"red\" d=\"M 316.9230769230769 288.0398878917452 316.9230769230769 277.61344633761274\"/><path stroke-width=\"2\" stroke=\"red\" d=\"M 336.1538461538462 310 336.1538461538462 277.61344633761274\"/><path stroke-width=\"2\" stroke=\"red\" d=\"M 316.9230769230769 277.61344633761274 336.1538461538462 277.61344633761274\"/><path stroke-width=\"2\" stroke=\"blue\" d=\"M 170.76923076923077 281.9731758240389 170.76923076923077 276.8868266256568\"/><path stroke-width=\"2\" stroke=\"blue\" d=\"M 182.30769230769232 310 182.30769230769232 276.8868266256568\"/><path stroke-width=\"2\" stroke=\"blue\" d=\"M 170.76923076923077 276.8868266256568 182.30769230769232 276.8868266256568\"/><path stroke-width=\"2\" stroke=\"blue\" d=\"M 148.46153846153845 285.2948728525634 148.46153846153845 274.8666603151716\"/><path stroke-width=\"2\" stroke=\"blue\" d=\"M 176.53846153846155 276.8868266256568 176.53846153846155 274.8666603151716\"/><path stroke-width=\"2\" stroke=\"blue\" d=\"M 148.46153846153845 274.8666603151716 176.53846153846155 274.8666603151716\"/><path stroke-width=\"2\" stroke=\"red\" d=\"M 326.53846153846155 277.61344633761274 326.53846153846155 273.5651257913378\"/><path stroke-width=\"2\" stroke=\"red\" d=\"M 342.3076923076923 310 342.3076923076923 273.5651257913378\"/><path stroke-width=\"2\" stroke=\"red\" d=\"M 326.53846153846155 273.5651257913378 342.3076923076923 273.5651257913378\"/><path stroke-width=\"2\" stroke=\"blue\" d=\"M 120.76923076923077 310 120.76923076923077 271.3852658508587\"/><path stroke-width=\"2\" stroke=\"blue\" d=\"M 126.92307692307693 310 126.92307692307693 271.3852658508587\"/><path stroke-width=\"2\" stroke=\"blue\" d=\"M 120.76923076923077 271.3852658508587 126.92307692307693 271.3852658508587\"/><path stroke-width=\"2\" stroke=\"blue\" d=\"M 41.63461538461539 283.14961099798006 41.63461538461539 266.9044325703417\"/><path stroke-width=\"2\" stroke=\"blue\" d=\"M 59.23076923076923 310 59.23076923076923 266.9044325703417\"/><path stroke-width=\"2\" stroke=\"blue\" d=\"M 41.63461538461539 266.9044325703417 59.23076923076923 266.9044325703417\"/><path stroke-width=\"2\" stroke=\"blue\" d=\"M 228.46153846153848 280.9351446601902 228.46153846153848 266.1623316380589\"/><path stroke-width=\"2\" stroke=\"blue\" d=\"M 258.84615384615387 287.16332665662895 258.84615384615387 266.1623316380589\"/><path stroke-width=\"2\" stroke=\"blue\" d=\"M 228.46153846153848 266.1623316380589 258.84615384615387 266.1623316380589\"/><path stroke-width=\"2\" stroke=\"blue\" d=\"M 83.84615384615385 310 83.84615384615385 266.0221047629854\"/><path stroke-width=\"2\" stroke=\"blue\" d=\"M 90.0 310 90.0 266.0221047629854\"/><path stroke-width=\"2\" stroke=\"blue\" d=\"M 83.84615384615385 266.0221047629854 90.0 266.0221047629854\"/><path stroke-width=\"2\" stroke=\"red\" d=\"M 334.4230769230769 273.5651257913378 334.4230769230769 265.27571306952655\"/><path stroke-width=\"2\" stroke=\"red\" d=\"M 351.53846153846155 290.0698137315837 351.53846153846155 265.27571306952655\"/><path stroke-width=\"2\" stroke=\"red\" d=\"M 334.4230769230769 265.27571306952655 351.53846153846155 265.27571306952655\"/><path stroke-width=\"2\" stroke=\"blue\" d=\"M 123.84615384615385 271.3852658508587 123.84615384615385 261.31636436328535\"/><path stroke-width=\"2\" stroke=\"blue\" d=\"M 133.0769230769231 310 133.0769230769231 261.31636436328535\"/><path stroke-width=\"2\" stroke=\"blue\" d=\"M 123.84615384615385 261.31636436328535 133.0769230769231 261.31636436328535\"/><path stroke-width=\"2\" stroke=\"red\" d=\"M 366.92307692307696 310 366.92307692307696 260.1745343289592\"/><path stroke-width=\"2\" stroke=\"red\" d=\"M 373.0769230769231 310 373.0769230769231 260.1745343289592\"/><path stroke-width=\"2\" stroke=\"red\" d=\"M 366.92307692307696 260.1745343289592 373.0769230769231 260.1745343289592\"/><path stroke-width=\"2\" stroke=\"red\" d=\"M 360.7692307692308 310 360.7692307692308 257.40645488441464\"/><path stroke-width=\"2\" stroke=\"red\" d=\"M 370.0 260.1745343289592 370.0 257.40645488441464\"/><path stroke-width=\"2\" stroke=\"red\" d=\"M 360.7692307692308 257.40645488441464 370.0 257.40645488441464\"/><path stroke-width=\"2\" stroke=\"blue\" d=\"M 206.15384615384616 280.5476137044753 206.15384615384616 256.9963683024243\"/><path stroke-width=\"2\" stroke=\"blue\" d=\"M 243.6538461538462 266.1623316380589 243.6538461538462 256.9963683024243\"/><path stroke-width=\"2\" stroke=\"blue\" d=\"M 206.15384615384616 256.9963683024243 243.6538461538462 256.9963683024243\"/><path stroke-width=\"2\" stroke=\"blue\" d=\"M 86.92307692307693 266.0221047629854 86.92307692307693 255.19198321872022\"/><path stroke-width=\"2\" stroke=\"blue\" d=\"M 96.15384615384616 310 96.15384615384616 255.19198321872022\"/><path stroke-width=\"2\" stroke=\"blue\" d=\"M 86.92307692307693 255.19198321872022 96.15384615384616 255.19198321872022\"/><path stroke-width=\"2\" stroke=\"red\" d=\"M 365.38461538461536 257.40645488441464 365.38461538461536 255.1458543191535\"/><path stroke-width=\"2\" stroke=\"red\" d=\"M 379.2307692307692 310 379.2307692307692 255.1458543191535\"/><path stroke-width=\"2\" stroke=\"red\" d=\"M 365.38461538461536 255.1458543191535 379.2307692307692 255.1458543191535\"/><path stroke-width=\"2\" stroke=\"red\" d=\"M 372.30769230769226 255.1458543191535 372.30769230769226 254.3183092862683\"/><path stroke-width=\"2\" stroke=\"red\" d=\"M 385.3846153846154 310 385.3846153846154 254.3183092862683\"/><path stroke-width=\"2\" stroke=\"red\" d=\"M 372.30769230769226 254.3183092862683 385.3846153846154 254.3183092862683\"/><path stroke-width=\"2\" stroke=\"red\" d=\"M 378.8461538461538 254.3183092862683 378.8461538461538 252.45158404925843\"/><path stroke-width=\"2\" stroke=\"red\" d=\"M 391.53846153846155 310 391.53846153846155 252.45158404925843\"/><path stroke-width=\"2\" stroke=\"red\" d=\"M 378.8461538461538 252.45158404925843 391.53846153846155 252.45158404925843\"/><path stroke-width=\"2\" stroke=\"blue\" d=\"M 114.61538461538463 310 114.61538461538463 250.91299547848223\"/><path stroke-width=\"2\" stroke=\"blue\" d=\"M 128.46153846153848 261.31636436328535 128.46153846153848 250.91299547848223\"/><path stroke-width=\"2\" stroke=\"blue\" d=\"M 114.61538461538463 250.91299547848223 128.46153846153848 250.91299547848223\"/><path stroke-width=\"2\" stroke=\"red\" d=\"M 293.0769230769231 310 293.0769230769231 248.9638059328114\"/><path stroke-width=\"2\" stroke=\"red\" d=\"M 299.2307692307692 310 299.2307692307692 248.9638059328114\"/><path stroke-width=\"2\" stroke=\"red\" d=\"M 293.0769230769231 248.9638059328114 299.2307692307692 248.9638059328114\"/><path stroke-width=\"2\" stroke=\"blue\" d=\"M 162.5 274.8666603151716 162.5 244.79038524296962\"/><path stroke-width=\"2\" stroke=\"blue\" d=\"M 188.46153846153848 310 188.46153846153848 244.79038524296962\"/><path stroke-width=\"2\" stroke=\"blue\" d=\"M 162.5 244.79038524296962 188.46153846153848 244.79038524296962\"/><path stroke-width=\"2\" stroke=\"blue\" d=\"M 77.6923076923077 310 77.6923076923077 243.10469578698866\"/><path stroke-width=\"2\" stroke=\"blue\" d=\"M 91.53846153846155 255.19198321872022 91.53846153846155 243.10469578698866\"/><path stroke-width=\"2\" stroke=\"blue\" d=\"M 77.6923076923077 243.10469578698866 91.53846153846155 243.10469578698866\"/><path stroke-width=\"2\" stroke=\"blue\" d=\"M 224.9038461538462 256.9963683024243 224.9038461538462 240.97707240669527\"/><path stroke-width=\"2\" stroke=\"blue\" d=\"M 274.61538461538464 310 274.61538461538464 240.97707240669527\"/><path stroke-width=\"2\" stroke=\"blue\" d=\"M 224.9038461538462 240.97707240669527 274.61538461538464 240.97707240669527\"/><path stroke-width=\"2\" stroke=\"red\" d=\"M 342.9807692307692 265.27571306952655 342.9807692307692 237.81695853041674\"/><path stroke-width=\"2\" stroke=\"red\" d=\"M 385.1923076923077 252.45158404925843 385.1923076923077 237.81695853041674\"/><path stroke-width=\"2\" stroke=\"red\" d=\"M 342.9807692307692 237.81695853041674 385.1923076923077 237.81695853041674\"/><path stroke-width=\"2\" stroke=\"blue\" d=\"M 108.46153846153847 310 108.46153846153847 237.1302596135344\"/><path stroke-width=\"2\" stroke=\"blue\" d=\"M 121.53846153846155 250.91299547848223 121.53846153846155 237.1302596135344\"/><path stroke-width=\"2\" stroke=\"blue\" d=\"M 108.46153846153847 237.1302596135344 121.53846153846155 237.1302596135344\"/><path stroke-width=\"2\" stroke=\"red\" d=\"M 296.1538461538462 248.9638059328114 296.1538461538462 235.8846185576902\"/><path stroke-width=\"2\" stroke=\"red\" d=\"M 305.3846153846154 310 305.3846153846154 235.8846185576902\"/><path stroke-width=\"2\" stroke=\"red\" d=\"M 296.1538461538462 235.8846185576902 305.3846153846154 235.8846185576902\"/><path stroke-width=\"2\" stroke=\"blue\" d=\"M 84.61538461538461 243.10469578698866 84.61538461538461 234.51046504764395\"/><path stroke-width=\"2\" stroke=\"blue\" d=\"M 102.3076923076923 310 102.3076923076923 234.51046504764395\"/><path stroke-width=\"2\" stroke=\"blue\" d=\"M 84.61538461538461 234.51046504764395 102.3076923076923 234.51046504764395\"/><path stroke-width=\"2\" stroke=\"blue\" d=\"M 50.43269230769231 266.9044325703417 50.43269230769231 230.66929694788317\"/><path stroke-width=\"2\" stroke=\"blue\" d=\"M 65.38461538461539 310 65.38461538461539 230.66929694788317\"/><path stroke-width=\"2\" stroke=\"blue\" d=\"M 50.43269230769231 230.66929694788317 65.38461538461539 230.66929694788317\"/><path stroke-width=\"2\" stroke=\"blue\" d=\"M 249.75961538461542 240.97707240669527 249.75961538461542 225.11216770213127\"/><path stroke-width=\"2\" stroke=\"blue\" d=\"M 280.7692307692308 310 280.7692307692308 225.11216770213127\"/><path stroke-width=\"2\" stroke=\"blue\" d=\"M 249.75961538461542 225.11216770213127 280.7692307692308 225.11216770213127\"/><path stroke-width=\"2\" stroke=\"red\" d=\"M 300.76923076923083 235.8846185576902 300.76923076923083 224.63725354827926\"/><path stroke-width=\"2\" stroke=\"red\" d=\"M 364.08653846153845 237.81695853041674 364.08653846153845 224.63725354827926\"/><path stroke-width=\"2\" stroke=\"red\" d=\"M 300.76923076923083 224.63725354827926 364.08653846153845 224.63725354827926\"/><path stroke-width=\"2\" stroke=\"blue\" d=\"M 93.46153846153845 234.51046504764395 93.46153846153845 221.9750123061347\"/><path stroke-width=\"2\" stroke=\"blue\" d=\"M 115.0 237.1302596135344 115.0 221.9750123061347\"/><path stroke-width=\"2\" stroke=\"blue\" d=\"M 93.46153846153845 221.9750123061347 115.0 221.9750123061347\"/><path stroke-width=\"2\" stroke=\"red\" d=\"M 286.92307692307696 310 286.92307692307696 206.02393857293214\"/><path stroke-width=\"2\" stroke=\"red\" d=\"M 332.42788461538464 224.63725354827926 332.42788461538464 206.02393857293214\"/><path stroke-width=\"2\" stroke=\"red\" d=\"M 286.92307692307696 206.02393857293214 332.42788461538464 206.02393857293214\"/><path stroke-width=\"2\" stroke=\"red\" d=\"M 309.67548076923083 206.02393857293214 309.67548076923083 201.3725691368885\"/><path stroke-width=\"2\" stroke=\"red\" d=\"M 397.69230769230774 310 397.69230769230774 201.3725691368885\"/><path stroke-width=\"2\" stroke=\"red\" d=\"M 309.67548076923083 201.3725691368885 397.69230769230774 201.3725691368885\"/><path stroke-width=\"2\" stroke=\"blue\" d=\"M 139.23076923076923 310 139.23076923076923 199.0250942456646\"/><path stroke-width=\"2\" stroke=\"blue\" d=\"M 175.48076923076923 244.79038524296962 175.48076923076923 199.0250942456646\"/><path stroke-width=\"2\" stroke=\"blue\" d=\"M 139.23076923076923 199.0250942456646 175.48076923076923 199.0250942456646\"/><path stroke-width=\"2\" stroke=\"blue\" d=\"M 104.23076923076923 221.9750123061347 104.23076923076923 192.8172971873205\"/><path stroke-width=\"2\" stroke=\"blue\" d=\"M 157.35576923076923 199.0250942456646 157.35576923076923 192.8172971873205\"/><path stroke-width=\"2\" stroke=\"blue\" d=\"M 104.23076923076923 192.8172971873205 157.35576923076923 192.8172971873205\"/><path stroke-width=\"2\" stroke=\"blue\" d=\"M 71.53846153846155 310 71.53846153846155 181.12642455164405\"/><path stroke-width=\"2\" stroke=\"blue\" d=\"M 130.79326923076923 192.8172971873205 130.79326923076923 181.12642455164405\"/><path stroke-width=\"2\" stroke=\"blue\" d=\"M 71.53846153846155 181.12642455164405 130.79326923076923 181.12642455164405\"/><path stroke-width=\"2\" stroke=\"red\" d=\"M 353.6838942307693 201.3725691368885 353.6838942307693 172.40905558058452\"/><path stroke-width=\"2\" stroke=\"red\" d=\"M 403.84615384615387 310 403.84615384615387 172.40905558058452\"/><path stroke-width=\"2\" stroke=\"red\" d=\"M 353.6838942307693 172.40905558058452 403.84615384615387 172.40905558058452\"/><path stroke-width=\"2\" stroke=\"blue\" d=\"M 57.90865384615385 230.66929694788317 57.90865384615385 150.28323057134057\"/><path stroke-width=\"2\" stroke=\"blue\" d=\"M 101.16586538461539 181.12642455164405 101.16586538461539 150.28323057134057\"/><path stroke-width=\"2\" stroke=\"blue\" d=\"M 57.90865384615385 150.28323057134057 101.16586538461539 150.28323057134057\"/><path stroke-width=\"2\" stroke=\"blue\" d=\"M 79.53725961538461 150.28323057134057 79.53725961538461 21.69541066867356\"/><path stroke-width=\"2\" stroke=\"blue\" d=\"M 265.2644230769231 225.11216770213127 265.2644230769231 21.69541066867356\"/><path stroke-width=\"2\" stroke=\"blue\" d=\"M 79.53725961538461 21.69541066867356 265.2644230769231 21.69541066867356\"/><path stroke-width=\"2\" stroke=\"black\" d=\"M 172.40084134615387 21.69541066867356 172.40084134615387 10.0\"/><path stroke-width=\"2\" stroke=\"black\" d=\"M 378.76502403846155 172.40905558058452 378.76502403846155 10.0\"/><path stroke-width=\"2\" stroke=\"black\" d=\"M 172.40084134615387 10.0 378.76502403846155 10.0\"/></svg>"
      ],
      "text/plain": [
       "<IPython.core.display.SVG object>"
      ]
     },
     "execution_count": 21,
     "metadata": {},
     "output_type": "execute_result"
    }
   ],
   "source": [
    "make_paris_image(paris)"
   ]
  },
  {
   "cell_type": "code",
   "execution_count": 22,
   "id": "a59d763b",
   "metadata": {},
   "outputs": [],
   "source": [
    "spec_clust = spectral_clustering(cat_graph, 10)"
   ]
  },
  {
   "cell_type": "code",
   "execution_count": 23,
   "id": "0bfbc685",
   "metadata": {},
   "outputs": [
    {
     "data": {
      "text/plain": [
       "array([2, 2, 7, 2, 6, 7, 2, 2, 2, 9, 7, 6, 0, 7, 7, 8, 1, 1, 1, 6, 4, 8,\n",
       "       9, 1, 6, 3, 0, 3, 1, 0, 8, 8, 9, 0, 0, 4, 4, 4, 4, 8, 1, 1, 1, 1,\n",
       "       1, 8, 8, 3, 3, 5, 5, 5, 1, 5, 5, 3, 3, 3, 3, 5, 5, 4, 1, 4, 4])"
      ]
     },
     "execution_count": 23,
     "metadata": {},
     "output_type": "execute_result"
    }
   ],
   "source": [
    "spec_clust.labels_"
   ]
  },
  {
   "cell_type": "code",
   "execution_count": 24,
   "id": "1288e336",
   "metadata": {},
   "outputs": [],
   "source": [
    "gmm = gaussian_mixture(cat_graph, 10)"
   ]
  },
  {
   "cell_type": "code",
   "execution_count": 25,
   "id": "f0b82b12",
   "metadata": {},
   "outputs": [
    {
     "data": {
      "text/plain": [
       "array([1, 1, 1, 1, 1, 9, 1, 1, 8, 1, 9, 1, 4, 9, 9, 8, 5, 2, 5, 5, 3, 3,\n",
       "       1, 6, 0, 4, 3, 3, 2, 2, 3, 3, 0, 3, 3, 7, 7, 7, 0, 0, 2, 2, 2, 2,\n",
       "       2, 7, 3, 3, 3, 2, 2, 2, 2, 2, 2, 3, 3, 3, 3, 2, 2, 7, 6, 7, 7])"
      ]
     },
     "execution_count": 25,
     "metadata": {},
     "output_type": "execute_result"
    }
   ],
   "source": [
    "gmm"
   ]
  }
 ],
 "metadata": {
  "kernelspec": {
   "display_name": "Python 3",
   "language": "python",
   "name": "python3"
  },
  "language_info": {
   "codemirror_mode": {
    "name": "ipython",
    "version": 3
   },
   "file_extension": ".py",
   "mimetype": "text/x-python",
   "name": "python",
   "nbconvert_exporter": "python",
   "pygments_lexer": "ipython3",
   "version": "3.8.8"
  }
 },
 "nbformat": 4,
 "nbformat_minor": 5
}
